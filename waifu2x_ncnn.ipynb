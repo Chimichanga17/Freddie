{
  "nbformat": 4,
  "nbformat_minor": 0,
  "metadata": {
    "colab": {
      "name": "waifu2x-ncnn.ipynb",
      "provenance": [],
      "collapsed_sections": [],
      "toc_visible": true,
      "mount_file_id": "1G7Ww21hGRmSTDfkigQgCG6xPJ3R4HPsj",
      "authorship_tag": "ABX9TyOm0/cCNQOwVm4p71ShfUEJ",
      "include_colab_link": true
    },
    "kernelspec": {
      "name": "python3",
      "display_name": "Python 3"
    },
    "accelerator": "GPU"
  },
  "cells": [
    {
      "cell_type": "markdown",
      "metadata": {
        "id": "view-in-github",
        "colab_type": "text"
      },
      "source": [
        "<a href=\"https://colab.research.google.com/github/Chimichanga17/Freddie-Video-SuperResolution/blob/master/waifu2x_ncnn.ipynb\" target=\"_parent\"><img src=\"https://colab.research.google.com/assets/colab-badge.svg\" alt=\"Open In Colab\"/></a>"
      ]
    },
    {
      "cell_type": "markdown",
      "metadata": {
        "id": "DJosBlQ4bD4n",
        "colab_type": "text"
      },
      "source": [
        "#To run C++ code in jupyter notebook:\n",
        "change runtime to \"GPU\"\n",
        "install extension & load it with: \n",
        "!pip install git+git://github.com/andreinechaev/nvcc4jupyter.git\n",
        "%load_ext nvcc_plugin\n",
        "To execute code in a cell with cuda, use \"%%c\" before on top of the cell.\n",
        "* use %cd, %mkdir\n",
        "* use !ls, !zip"
      ]
    },
    {
      "cell_type": "code",
      "metadata": {
        "id": "hk5UjoX9aQxt",
        "colab_type": "code",
        "outputId": "5e75d8de-0e41-458d-8826-bdf7bb54d193",
        "colab": {
          "base_uri": "https://localhost:8080/",
          "height": 214
        }
      },
      "source": [
        "#!!nvcc --version\n",
        "!pip install git+git://github.com/andreinechaev/nvcc4jupyter.git\n",
        "%load_ext nvcc_plugin"
      ],
      "execution_count": 0,
      "outputs": [
        {
          "output_type": "stream",
          "text": [
            "Collecting git+git://github.com/andreinechaev/nvcc4jupyter.git\n",
            "  Cloning git://github.com/andreinechaev/nvcc4jupyter.git to /tmp/pip-req-build-razy74u_\n",
            "  Running command git clone -q git://github.com/andreinechaev/nvcc4jupyter.git /tmp/pip-req-build-razy74u_\n",
            "Requirement already satisfied (use --upgrade to upgrade): NVCCPlugin==0.0.2 from git+git://github.com/andreinechaev/nvcc4jupyter.git in /usr/local/lib/python3.6/dist-packages\n",
            "Building wheels for collected packages: NVCCPlugin\n",
            "  Building wheel for NVCCPlugin (setup.py) ... \u001b[?25l\u001b[?25hdone\n",
            "  Created wheel for NVCCPlugin: filename=NVCCPlugin-0.0.2-cp36-none-any.whl size=4307 sha256=b8e2181be8539f9f9654fa67da3a35e1051157ee8a8b0f203c65d4b80137e3f2\n",
            "  Stored in directory: /tmp/pip-ephem-wheel-cache-sn72ppfa/wheels/10/c2/05/ca241da37bff77d60d31a9174f988109c61ba989e4d4650516\n",
            "Successfully built NVCCPlugin\n",
            "The nvcc_plugin extension is already loaded. To reload it, use:\n",
            "  %reload_ext nvcc_plugin\n"
          ],
          "name": "stdout"
        }
      ]
    },
    {
      "cell_type": "code",
      "metadata": {
        "id": "rah0Bjmdb240",
        "colab_type": "code",
        "colab": {
          "base_uri": "https://localhost:8080/",
          "height": 589
        },
        "outputId": "77aef45e-372a-4506-cac2-617137d96573"
      },
      "source": [
        "!apt install g++ cmake protobuf-compiler python-protobuf"
      ],
      "execution_count": 11,
      "outputs": [
        {
          "output_type": "stream",
          "text": [
            "Reading package lists... Done\n",
            "Building dependency tree       \n",
            "Reading state information... Done\n",
            "protobuf-compiler is already the newest version (3.0.0-9.1ubuntu1).\n",
            "cmake is already the newest version (3.10.2-1ubuntu2.18.04.1).\n",
            "g++ is already the newest version (4:7.4.0-1ubuntu2.3).\n",
            "The following additional packages will be installed:\n",
            "  python-pkg-resources python-six\n",
            "Suggested packages:\n",
            "  python-setuptools\n",
            "The following NEW packages will be installed:\n",
            "  python-pkg-resources python-protobuf python-six\n",
            "0 upgraded, 3 newly installed, 0 to remove and 25 not upgraded.\n",
            "Need to get 402 kB of archives.\n",
            "After this operation, 2,904 kB of additional disk space will be used.\n",
            "Get:1 http://archive.ubuntu.com/ubuntu bionic/main amd64 python-pkg-resources all 39.0.1-2 [128 kB]\n",
            "Get:2 http://archive.ubuntu.com/ubuntu bionic/main amd64 python-six all 1.11.0-2 [11.3 kB]\n",
            "Get:3 http://archive.ubuntu.com/ubuntu bionic/universe amd64 python-protobuf amd64 3.0.0-9.1ubuntu1 [263 kB]\n",
            "Fetched 402 kB in 2s (176 kB/s)\n",
            "Selecting previously unselected package python-pkg-resources.\n",
            "(Reading database ... 145118 files and directories currently installed.)\n",
            "Preparing to unpack .../python-pkg-resources_39.0.1-2_all.deb ...\n",
            "Unpacking python-pkg-resources (39.0.1-2) ...\n",
            "Selecting previously unselected package python-six.\n",
            "Preparing to unpack .../python-six_1.11.0-2_all.deb ...\n",
            "Unpacking python-six (1.11.0-2) ...\n",
            "Selecting previously unselected package python-protobuf.\n",
            "Preparing to unpack .../python-protobuf_3.0.0-9.1ubuntu1_amd64.deb ...\n",
            "Unpacking python-protobuf (3.0.0-9.1ubuntu1) ...\n",
            "Setting up python-pkg-resources (39.0.1-2) ...\n",
            "Setting up python-six (1.11.0-2) ...\n",
            "Setting up python-protobuf (3.0.0-9.1ubuntu1) ...\n"
          ],
          "name": "stdout"
        }
      ]
    },
    {
      "cell_type": "code",
      "metadata": {
        "id": "LQN1QhylgUCu",
        "colab_type": "code",
        "colab": {
          "base_uri": "https://localhost:8080/",
          "height": 249
        },
        "outputId": "28ab1c1b-7ee4-4285-ba11-94431f957389"
      },
      "source": [
        "!wget https://sdk.lunarg.com/sdk/download/1.1.114.0/linux/vulkansdk-linux-x86_64-1.1.114.0.tar.gz?Human=true -O vulkansdk-linux-x86_64-1.1.114.0.tar.gz\n",
        "!tar -xf vulkansdk-linux-x86_64-1.1.114.0.tar.gz\n",
        "\n",
        "# setup env\n",
        "!export VULKAN_SDK=`pwd`/1.1.114.0/x86_64"
      ],
      "execution_count": 12,
      "outputs": [
        {
          "output_type": "stream",
          "text": [
            "--2020-03-16 18:01:03--  https://sdk.lunarg.com/sdk/download/1.1.114.0/linux/vulkansdk-linux-x86_64-1.1.114.0.tar.gz?Human=true\n",
            "Resolving sdk.lunarg.com (sdk.lunarg.com)... 209.126.117.218\n",
            "Connecting to sdk.lunarg.com (sdk.lunarg.com)|209.126.117.218|:443... connected.\n",
            "HTTP request sent, awaiting response... 200 OK\n",
            "Syntax error in Set-Cookie: u=tWAAqSb1SMUyOnbn0iYBJBngwo8A%2BTHuYfMP4ytHkr1zsIYGu2Z7JYisYKnq%0AdP6ozmkSLKhTpVQaA3nX5xqZmA%3D%3D; ; path=/; SameSite=Lax at position 100.\n",
            "Syntax error in Set-Cookie: a=XZxs35QBwvluz8x%2Bgl5n4w%3D%3D; expires=Wed, 09 Mar 2050 18:01:04 +0000; ; path=/; SameSite=Lax at position 74.\n",
            "Length: 121660594 (116M) [application/octet-stream]\n",
            "Saving to: ‘vulkansdk-linux-x86_64-1.1.114.0.tar.gz’\n",
            "\n",
            "vulkansdk-linux-x86 100%[===================>] 116.02M   831KB/s    in 3m 13s  \n",
            "\n",
            "2020-03-16 18:04:17 (616 KB/s) - ‘vulkansdk-linux-x86_64-1.1.114.0.tar.gz’ saved [121660594/121660594]\n",
            "\n"
          ],
          "name": "stdout"
        }
      ]
    },
    {
      "cell_type": "code",
      "metadata": {
        "id": "woNwndPL8wSU",
        "colab_type": "code",
        "colab": {
          "base_uri": "https://localhost:8080/",
          "height": 88
        },
        "outputId": "3bef6882-c2a7-44e6-e429-1ab9b6590c79"
      },
      "source": [
        "from google.colab import drive\n",
        "drive.mount('/content/gdrive/')\n",
        "root_path = 'gdrive/My Drive/Freddie-video-super-resolution/'  #change dir to your project folder\n",
        "%cd \"/content/gdrive/My Drive/Freddie-video-super-resolution\"\n",
        "# !cp /content/gdrive/'My Drive'/Freddie-video-super-resolution/waifu2x-ncnn-vulkan .\n",
        "!ls\n",
        "!chmod +x waifu2x-ncnn-vulkan\n",
        "!./waifu2x-ncnn-vulkan --help"
      ],
      "execution_count": 18,
      "outputs": [
        {
          "output_type": "stream",
          "text": [
            "Drive already mounted at /content/gdrive/; to attempt to forcibly remount, call drive.mount(\"/content/gdrive/\", force_remount=True).\n",
            "/content/gdrive/My Drive/Freddie-video-super-resolution\n",
            "paperwork  waifu2x-ncnn-vulkan\n",
            "./waifu2x-ncnn-vulkan: error while loading shared libraries: libvulkan.so.1: cannot open shared object file: No such file or directory\n"
          ],
          "name": "stdout"
        }
      ]
    }
  ]
}